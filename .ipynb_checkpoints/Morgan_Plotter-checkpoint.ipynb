{
 "cells": [
  {
   "cell_type": "code",
   "execution_count": 1,
   "metadata": {},
   "outputs": [],
   "source": [
    "import re\n",
    "import pandas as pd\n",
    "import matplotlib.pyplot as plt\n",
    "import numpy as np\n",
    "import os\n",
    "from matplotlib.legend_handler import HandlerLine2D\n",
    "import matplotlib.lines as lines\n",
    "import matplotlib.cm as cm\n",
    "import matplotlib.colors as colors"
   ]
  },
  {
   "cell_type": "code",
   "execution_count": 2,
   "metadata": {},
   "outputs": [],
   "source": [
    "def clona_figura(xstop):\n",
    "    plt.hlines(0, 1, xstop,[(0.2, 0.4, 0.6, 0.6)], lw=7)\n",
    "    plt.hlines(-1, 1, xstop,[(0.2, 0.4, 0.6, 0.6)], lw=7)\n",
    "    plt.ylim(-2.15,2)\n",
    "    "
   ]
  },
  {
   "cell_type": "code",
   "execution_count": 3,
   "metadata": {},
   "outputs": [],
   "source": [
    "def monomeros(xstart, xstop, color='k'):\n",
    "    ancho_linea_v = 0.6\n",
    "    ancho_linea_h = 0.8\n",
    "    y = 0.07\n",
    "    plt.hlines(0, xstart, xstop, color, lw=ancho_linea_h,label='Monomeros')\n",
    "    plt.vlines(xstart, y, -y, color, lw=ancho_linea_v)\n",
    "    plt.vlines(xstop, y, -y, color, lw=ancho_linea_v)\n",
    "    \n",
    "    plt.hlines(-1, xstart, xstop, color, lw=ancho_linea_h,label='Monomeros')\n",
    "    plt.vlines(xstart, y-1, -y-1, color, lw=ancho_linea_v)\n",
    "    plt.vlines(xstop, y-1, -y-1, color, lw=ancho_linea_v)"
   ]
  },
  {
   "cell_type": "code",
   "execution_count": 4,
   "metadata": {},
   "outputs": [],
   "source": [
    "def traductor(secuencia,tabla):\n",
    "    df = pd.read_csv(tabla, index_col=0)\n",
    "    lista = []\n",
    "    for i,base in enumerate(secuencia):\n",
    "        m = df.loc[base,str(i)]\n",
    "        lista.append(m)\n",
    "    return lista"
   ]
  },
  {
   "cell_type": "code",
   "execution_count": 5,
   "metadata": {},
   "outputs": [],
   "source": [
    "def score_minmax(lista):\n",
    "    n = 1.0\n",
    "    for i in lista:\n",
    "        n = n*i\n",
    "    l = np.log10(n)\n",
    "    return l"
   ]
  },
  {
   "cell_type": "code",
   "execution_count": 6,
   "metadata": {},
   "outputs": [],
   "source": [
    "def minmax(tabla):\n",
    "    df = pd.read_csv(tabla,index_col = 0)\n",
    "    seq_min = []\n",
    "    seq_max = []\n",
    "    for col in df.columns:\n",
    "        seq_max.append(max(df.iloc[:,int(col)]))\n",
    "        seq_min.append(min(df.iloc[:,int(col)]))\n",
    "    smax = score_minmax(seq_max)\n",
    "    smin = score_minmax(seq_min)\n",
    "    return [smax, smin]"
   ]
  },
  {
   "cell_type": "code",
   "execution_count": 7,
   "metadata": {},
   "outputs": [],
   "source": [
    "def score(lista,tabla):\n",
    "    n = 1.0\n",
    "    for i in lista:\n",
    "        n = n*i\n",
    "    l = np.log10(n)\n",
    "    smax = minmax(tabla)[0]\n",
    "    smin = minmax(tabla)[1]\n",
    "    s = (l-smin)/(smax-smin)\n",
    "    return s"
   ]
  },
  {
   "cell_type": "code",
   "execution_count": 8,
   "metadata": {},
   "outputs": [],
   "source": [
    "def colorea(numero):\n",
    "    norm = colors.Normalize(vmin=0.706, vmax=1)\n",
    "    f2rgb = cm.ScalarMappable(norm=norm, cmap=cm.get_cmap('RdYlGn'))\n",
    "    rgb = f2rgb.to_rgba(numero)[:3]\n",
    "    return rgb"
   ]
  },
  {
   "cell_type": "code",
   "execution_count": 16,
   "metadata": {},
   "outputs": [],
   "source": [
    "def cajas(x,texto_caja,nombre,largo_clona,booleano,i):\n",
    "    f = open(\"scores.txt\",'w')\n",
    "    ancho_linea = 1\n",
    "    y=0.5\n",
    "    line_color=''\n",
    "    plt.title(nombre)\n",
    "    f.write(nombre+'\\n')\n",
    "    if booleano == 0:\n",
    "        traduccion = traductor(texto_caja, 'tabla1.csv')\n",
    "        s = score(traduccion, 'tabla1.csv')\n",
    "        f.write(texto_caja+' '+str(s))\n",
    "        line_color = colorea(s)\n",
    "        plt.vlines(x+5, y, -0.1, line_color, lw = ancho_linea)\n",
    "    else:\n",
    "        traduccion = traductor(texto_caja, 'tabla2.csv')\n",
    "        s = score(traduccion,'tabla2.csv')\n",
    "        f.write(texto_caja+' '+str(s))\n",
    "        line_color = colorea(s)\n",
    "        plt.vlines(x+5, y-1, -0.1-1, line_color, lw = ancho_linea)\n",
    "    f.close()"
   ]
  },
  {
   "cell_type": "code",
   "execution_count": 17,
   "metadata": {},
   "outputs": [],
   "source": [
    "def graficar(largo_clona,lista_hits,lista_cajas,nombre,j):\n",
    "    \n",
    "    plt.figure(figsize=(16,3))\n",
    "    plt.yticks([])\n",
    "    plt.xlabel('Position(bp)')\n",
    "    clona_figura(largo_clona)\n",
    "    for monomero in lista_hits:\n",
    "        monomeros(monomero[0],monomero[1])\n",
    "    for i,caja in enumerate(lista_cajas):\n",
    "        cajas(caja[1],caja[0],nombre,largo_clona,caja[2],i)\n",
    "    black_h = plt.scatter([],[], marker=r'$\\mathrm{\\mathsf{H}}$',color ='k', label='Monomers' )\n",
    "    plt.legend(handles=[black_h],loc=pos_leg, fontsize='x-small')\n",
    "    plt.tight_layout()\n",
    "    plt.savefig('figuras/figura-%s.png' %j ,dpi = 450)"
   ]
  },
  {
   "cell_type": "code",
   "execution_count": 18,
   "metadata": {},
   "outputs": [],
   "source": [
    "def limites_monomeros(data_frame):\n",
    "    lista_starts = []\n",
    "    lista_ends = []\n",
    "    for i,j in data_frame[['hit_start']].iterrows():\n",
    "        lista_starts.append(j[0])\n",
    "    for i,j in data_frame[['hit_end']].iterrows():\n",
    "        lista_ends.append(j[0])\n",
    "    zipped_limits = sorted(list(zip(lista_starts,lista_ends)))\n",
    "    return zipped_limits"
   ]
  },
  {
   "cell_type": "code",
   "execution_count": 19,
   "metadata": {},
   "outputs": [],
   "source": [
    "def posicion_cajas(cadena, data_frame):\n",
    "    lista_cajas = []\n",
    "    lista_pos_cajas = []\n",
    "    lista_pos_booleanos = []\n",
    "\n",
    "    regex_1 = re.compile('([0-9]|[1-9][0-9]|[1-9][0-9][0-9]|[1-9][0-9][0-9][0-9]|[1-9][0-9][0-9][0-9][0-9])_x')\n",
    "    regex_2 = re.compile('([0-9]|[1-9][0-9]|[1-9][0-9][0-9]|[1-9][0-9][0-9][0-9]|[1-9][0-9][0-9][0-9][0-9])_y')\n",
    "    regex_3 = re.compile('nan')\n",
    "    regex_4 = re.compile('([0-9]|[1-9][0-9]|[1-9][0-9][0-9]|[1-9][0-9][0-9][0-9]|[1-9][0-9][0-9][0-9][0-9])')\n",
    "\n",
    "    for item in data_frame.loc[cadena].iteritems():\n",
    "        if regex_4.match(item[0]):\n",
    "            lista_pos_booleanos.append(item[1])\n",
    "        if regex_1.match(item[0]):\n",
    "            if not regex_3.match(str(item[1])):\n",
    "                lista_cajas.append(item[1])\n",
    "        elif regex_2.match(item[0]):\n",
    "            if not regex_3.match(str(item[1])):\n",
    "                lista_pos_cajas.append(item[1])\n",
    "        \n",
    "    zipped_cajas = sorted(list(zip(lista_cajas,lista_pos_cajas,lista_pos_booleanos)),key=lambda pos:pos[1])\n",
    "    \n",
    "    return zipped_cajas"
   ]
  },
  {
   "cell_type": "code",
   "execution_count": 20,
   "metadata": {},
   "outputs": [],
   "source": [
    "tabla = pd.read_csv('tabla_hits.csv')\n",
    "df_output_motivos = pd.read_csv('dataframe.csv')"
   ]
  },
  {
   "cell_type": "code",
   "execution_count": 21,
   "metadata": {},
   "outputs": [],
   "source": [
    "df_output_motivos.set_index(keys=['clone_id'],drop=False,inplace=True)\n",
    "tabla.set_index(keys=['clone_id'],drop=False,inplace=True)\n",
    "hit_size = np.absolute(tabla.hit_end-tabla.hit_start)\n",
    "tabla['hit_size'] = hit_size\n",
    "clonas = tabla['clone_id'].unique().tolist()"
   ]
  },
  {
   "cell_type": "code",
   "execution_count": 22,
   "metadata": {},
   "outputs": [
    {
     "data": {
      "image/png": "[encoded data removed]",
      "text/plain": [
       "<Figure size 1152x216 with 1 Axes>"
      ]
     },
     "metadata": {
      "needs_background": "light"
     },
     "output_type": "display_data"
    }
   ],
   "source": [
    "lista_clonas = []\n",
    "for i,clona in enumerate(clonas):\n",
    "    lista_clonas.append(tabla.loc[tabla.clone_id==clona])\n",
    "clonas_perdidas = []\n",
    "for i in range(len(lista_clonas)):\n",
    "    pos_leg = 'upper left'\n",
    "    if lista_clonas[i].index[0] in df_output_motivos.index:\n",
    "        tamaño = int(df_output_motivos.loc[lista_clonas[i].index[0]]['tamaño'])\n",
    "        zipped_limites = limites_monomeros(lista_clonas[i])\n",
    "        zipped_pos_cajas = posicion_cajas(lista_clonas[i].index[0], df_output_motivos)\n",
    "        graficar(tamaño,zipped_limites,zipped_pos_cajas,lista_clonas[i].index[0],i)\n",
    "    else:\n",
    "        clonas_perdidas.append(lista_clonas[i].index[0])\n",
    "    \n",
    "    "
   ]
  },
  {
   "cell_type": "code",
   "execution_count": null,
   "metadata": {},
   "outputs": [],
   "source": []
  }
 ],
 "metadata": {
  "kernelspec": {
   "display_name": "Python 3",
   "language": "python",
   "name": "python3"
  },
  "language_info": {
   "codemirror_mode": {
    "name": "ipython",
    "version": 3
   },
   "file_extension": ".py",
   "mimetype": "text/x-python",
   "name": "python",
   "nbconvert_exporter": "python",
   "pygments_lexer": "ipython3",
   "version": "3.7.1"
  }
 },
 "nbformat": 4,
 "nbformat_minor": 2
}
