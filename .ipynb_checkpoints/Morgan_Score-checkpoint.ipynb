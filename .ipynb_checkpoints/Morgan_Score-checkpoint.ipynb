{
 "cells": [
  {
   "cell_type": "code",
   "execution_count": 1,
   "metadata": {},
   "outputs": [],
   "source": [
    "import re\n",
    "import pandas as pd\n",
    "import matplotlib.pyplot as plt\n",
    "import numpy as np\n",
    "import os\n",
    "from matplotlib.legend_handler import HandlerLine2D\n",
    "import matplotlib.lines as lines\n",
    "import matplotlib.cm as cm\n",
    "import matplotlib.colors as colors"
   ]
  },
  {
   "cell_type": "code",
   "execution_count": 2,
   "metadata": {},
   "outputs": [],
   "source": [
    "def clona_figura(xstop):\n",
    "    return\n",
    "    #plt.hlines(0, 1, xstop,[(0.2, 0.4, 0.6, 0.6)], lw=7)\n",
    "    #plt.hlines(-1, 1, xstop,[(0.2, 0.4, 0.6, 0.6)], lw=7)\n",
    "    #plt.ylim(-2.15,2)\n",
    "    "
   ]
  },
  {
   "cell_type": "code",
   "execution_count": 3,
   "metadata": {},
   "outputs": [],
   "source": [
    "def monomeros(xstart, xstop, color='k'):\n",
    "    ancho_linea_v = 0.6\n",
    "    ancho_linea_h = 0.8\n",
    "    y = 0.07\n",
    "    #plt.hlines(0, xstart, xstop, color, lw=ancho_linea_h,label='Monomeros')\n",
    "    #plt.vlines(xstart, y, -y, color, lw=ancho_linea_v)\n",
    "    #plt.vlines(xstop, y, -y, color, lw=ancho_linea_v)\n",
    "    \n",
    "    #plt.hlines(-1, xstart, xstop, color, lw=ancho_linea_h,label='Monomeros')\n",
    "    #plt.vlines(xstart, y-1, -y-1, color, lw=ancho_linea_v)\n",
    "    #plt.vlines(xstop, y-1, -y-1, color, lw=ancho_linea_v)"
   ]
  },
  {
   "cell_type": "code",
   "execution_count": 4,
   "metadata": {},
   "outputs": [],
   "source": [
    "def traductor(secuencia,tabla):\n",
    "    df = pd.read_csv(tabla, index_col=0)\n",
    "    lista = []\n",
    "    for i,base in enumerate(secuencia):\n",
    "        m = df.loc[base,str(i)]\n",
    "        lista.append(m)\n",
    "    return lista"
   ]
  },
  {
   "cell_type": "code",
   "execution_count": 5,
   "metadata": {},
   "outputs": [],
   "source": [
    "def score_minmax(lista):\n",
    "    n = 1.0\n",
    "    for i in lista:\n",
    "        n = n*i\n",
    "    l = np.log10(n)\n",
    "    return l"
   ]
  },
  {
   "cell_type": "code",
   "execution_count": 6,
   "metadata": {},
   "outputs": [],
   "source": [
    "def minmax(tabla):\n",
    "    df = pd.read_csv(tabla,index_col = 0)\n",
    "    seq_min = []\n",
    "    seq_max = []\n",
    "    for col in df.columns:\n",
    "        seq_max.append(max(df.iloc[:,int(col)]))\n",
    "        seq_min.append(min(df.iloc[:,int(col)]))\n",
    "    smax = score_minmax(seq_max)\n",
    "    smin = score_minmax(seq_min)\n",
    "    return [smax, smin]"
   ]
  },
  {
   "cell_type": "code",
   "execution_count": 7,
   "metadata": {},
   "outputs": [],
   "source": [
    "def score(lista,tabla):\n",
    "    n = 1.0\n",
    "    for i in lista:\n",
    "        n = n*i\n",
    "    l = np.log10(n)\n",
    "    smax = minmax(tabla)[0]\n",
    "    smin = minmax(tabla)[1]\n",
    "    s = (l-smin)/(smax-smin)\n",
    "    print(s)\n",
    "    return s"
   ]
  },
  {
   "cell_type": "code",
   "execution_count": 8,
   "metadata": {},
   "outputs": [],
   "source": [
    "def colorea(numero):\n",
    "    norm = colors.Normalize(vmin=0.651, vmax=1)\n",
    "    f2rgb = cm.ScalarMappable(norm=norm, cmap=cm.get_cmap('RdYlGn'))\n",
    "    rgb = f2rgb.to_rgba(numero)[:3]\n",
    "    return rgb"
   ]
  },
  {
   "cell_type": "code",
   "execution_count": 9,
   "metadata": {},
   "outputs": [],
   "source": [
    "def cajas(x,texto_caja,nombre,largo_clona,booleano,i):\n",
    "    ancho_linea = 1\n",
    "    y=0.5\n",
    "    line_color=''\n",
    "    #plt.title(nombre)\n",
    "    if booleano == 0:\n",
    "        traduccion = traductor(texto_caja, 'tabla1.csv')\n",
    "        s = score(traduccion, 'tabla1.csv')\n",
    "        f.write(str(s)+',')\n",
    "        line_color = colorea(s)\n",
    "        #plt.vlines(x+5, y, -0.1, line_color, lw = ancho_linea)\n",
    "    else:\n",
    "        traduccion = traductor(texto_caja, 'tabla2.csv')\n",
    "        s = score(traduccion,'tabla2.csv')\n",
    "        f.write(str(s)+',')\n",
    "        line_color = colorea(s)\n",
    "        #plt.vlines(x+5, y-1, -0.1-1, line_color, lw = ancho_linea)\n"
   ]
  },
  {
   "cell_type": "code",
   "execution_count": 10,
   "metadata": {},
   "outputs": [],
   "source": [
    "def graficar(largo_clona,lista_hits,lista_cajas,nombre,j):\n",
    "    \n",
    "    #plt.figure(figsize=(16,3))\n",
    "    #plt.yticks([])\n",
    "    #plt.xlabel('Position(bp)')\n",
    "    clona_figura(largo_clona)\n",
    "    #for monomero in lista_hits:\n",
    "        #monomeros(monomero[0],monomero[1])\n",
    "    for i,caja in enumerate(lista_cajas):\n",
    "        cajas(caja[1],caja[0],nombre,largo_clona,caja[2],i)\n",
    "    #black_h = plt.scatter([],[], marker=r'$\\mathrm{\\mathsf{H}}$',color ='k', label='Monomers' )\n",
    "    #plt.legend(handles=[black_h],loc=pos_leg, fontsize='x-small')\n",
    "    #plt.tight_layout()\n",
    "    #plt.savefig('figuras/figura-%s.png' %j ,dpi = 450)"
   ]
  },
  {
   "cell_type": "code",
   "execution_count": 11,
   "metadata": {},
   "outputs": [],
   "source": [
    "def limites_monomeros(data_frame):\n",
    "    lista_starts = []\n",
    "    lista_ends = []\n",
    "    for i,j in data_frame[['hit_start']].iterrows():\n",
    "        lista_starts.append(j[0])\n",
    "    for i,j in data_frame[['hit_end']].iterrows():\n",
    "        lista_ends.append(j[0])\n",
    "    zipped_limits = sorted(list(zip(lista_starts,lista_ends)))\n",
    "    return zipped_limits"
   ]
  },
  {
   "cell_type": "code",
   "execution_count": 12,
   "metadata": {},
   "outputs": [],
   "source": [
    "def posicion_cajas(cadena, data_frame):\n",
    "    lista_cajas = []\n",
    "    lista_pos_cajas = []\n",
    "    lista_pos_booleanos = []\n",
    "\n",
    "    regex_1 = re.compile('([0-9]|[1-9][0-9]|[1-9][0-9][0-9]|[1-9][0-9][0-9][0-9]|[1-9][0-9][0-9][0-9][0-9])_x')\n",
    "    regex_2 = re.compile('([0-9]|[1-9][0-9]|[1-9][0-9][0-9]|[1-9][0-9][0-9][0-9]|[1-9][0-9][0-9][0-9][0-9])_y')\n",
    "    regex_3 = re.compile('nan')\n",
    "    regex_4 = re.compile('([0-9]|[1-9][0-9]|[1-9][0-9][0-9]|[1-9][0-9][0-9][0-9]|[1-9][0-9][0-9][0-9][0-9])')\n",
    "\n",
    "    for item in data_frame.loc[cadena].iteritems():\n",
    "        if regex_4.match(item[0]):\n",
    "            lista_pos_booleanos.append(item[1])\n",
    "        if regex_1.match(item[0]):\n",
    "            if not regex_3.match(str(item[1])):\n",
    "                lista_cajas.append(item[1])\n",
    "        elif regex_2.match(item[0]):\n",
    "            if not regex_3.match(str(item[1])):\n",
    "                lista_pos_cajas.append(item[1])\n",
    "        \n",
    "    zipped_cajas = sorted(list(zip(lista_cajas,lista_pos_cajas,lista_pos_booleanos)),key=lambda pos:pos[1])\n",
    "    \n",
    "    return zipped_cajas"
   ]
  },
  {
   "cell_type": "code",
   "execution_count": 13,
   "metadata": {},
   "outputs": [],
   "source": [
    "tabla = pd.read_csv('tabla_hits.csv')\n",
    "df_output_motivos = pd.read_csv('dataframe.csv')"
   ]
  },
  {
   "cell_type": "code",
   "execution_count": 14,
   "metadata": {},
   "outputs": [],
   "source": [
    "df_output_motivos.set_index(keys=['clone_id'],drop=False,inplace=True)\n",
    "tabla.set_index(keys=['clone_id'],drop=False,inplace=True)\n",
    "hit_size = np.absolute(tabla.hit_end-tabla.hit_start)\n",
    "tabla['hit_size'] = hit_size\n",
    "clonas = tabla['clone_id'].unique().tolist()"
   ]
  },
  {
   "cell_type": "code",
   "execution_count": 15,
   "metadata": {},
   "outputs": [
    {
     "name": "stdout",
     "output_type": "stream",
     "text": [
      "0.8149373260926035\n",
      "0.873618145902048\n",
      "0.8311905099552087\n",
      "0.8600444912025189\n",
      "0.9311642895627464\n",
      "0.8049452084350409\n"
     ]
    },
    {
     "ename": "ValueError",
     "evalue": "invalid literal for int() with base 10: 'Unnamed: 13'",
     "output_type": "error",
     "traceback": [
      "\u001b[1;31m---------------------------------------------------------------------------\u001b[0m",
      "\u001b[1;31mValueError\u001b[0m                                Traceback (most recent call last)",
      "\u001b[1;32m<ipython-input-15-7d072c4cde46>\u001b[0m in \u001b[0;36m<module>\u001b[1;34m\u001b[0m\n\u001b[0;32m     11\u001b[0m         \u001b[0mzipped_limites\u001b[0m \u001b[1;33m=\u001b[0m \u001b[0mlimites_monomeros\u001b[0m\u001b[1;33m(\u001b[0m\u001b[0mlista_clonas\u001b[0m\u001b[1;33m[\u001b[0m\u001b[0mi\u001b[0m\u001b[1;33m]\u001b[0m\u001b[1;33m)\u001b[0m\u001b[1;33m\u001b[0m\u001b[1;33m\u001b[0m\u001b[0m\n\u001b[0;32m     12\u001b[0m         \u001b[0mzipped_pos_cajas\u001b[0m \u001b[1;33m=\u001b[0m \u001b[0mposicion_cajas\u001b[0m\u001b[1;33m(\u001b[0m\u001b[0mlista_clonas\u001b[0m\u001b[1;33m[\u001b[0m\u001b[0mi\u001b[0m\u001b[1;33m]\u001b[0m\u001b[1;33m.\u001b[0m\u001b[0mindex\u001b[0m\u001b[1;33m[\u001b[0m\u001b[1;36m0\u001b[0m\u001b[1;33m]\u001b[0m\u001b[1;33m,\u001b[0m \u001b[0mdf_output_motivos\u001b[0m\u001b[1;33m)\u001b[0m\u001b[1;33m\u001b[0m\u001b[1;33m\u001b[0m\u001b[0m\n\u001b[1;32m---> 13\u001b[1;33m         \u001b[0mgraficar\u001b[0m\u001b[1;33m(\u001b[0m\u001b[0mtamaño\u001b[0m\u001b[1;33m,\u001b[0m\u001b[0mzipped_limites\u001b[0m\u001b[1;33m,\u001b[0m\u001b[0mzipped_pos_cajas\u001b[0m\u001b[1;33m,\u001b[0m\u001b[0mlista_clonas\u001b[0m\u001b[1;33m[\u001b[0m\u001b[0mi\u001b[0m\u001b[1;33m]\u001b[0m\u001b[1;33m.\u001b[0m\u001b[0mindex\u001b[0m\u001b[1;33m[\u001b[0m\u001b[1;36m0\u001b[0m\u001b[1;33m]\u001b[0m\u001b[1;33m,\u001b[0m\u001b[0mi\u001b[0m\u001b[1;33m)\u001b[0m\u001b[1;33m\u001b[0m\u001b[1;33m\u001b[0m\u001b[0m\n\u001b[0m\u001b[0;32m     14\u001b[0m         \u001b[0mf\u001b[0m\u001b[1;33m.\u001b[0m\u001b[0mwrite\u001b[0m\u001b[1;33m(\u001b[0m\u001b[1;34m'\\n'\u001b[0m\u001b[1;33m)\u001b[0m\u001b[1;33m\u001b[0m\u001b[1;33m\u001b[0m\u001b[0m\n\u001b[0;32m     15\u001b[0m     \u001b[1;32melse\u001b[0m\u001b[1;33m:\u001b[0m\u001b[1;33m\u001b[0m\u001b[1;33m\u001b[0m\u001b[0m\n",
      "\u001b[1;32m<ipython-input-10-a5df8db19b6a>\u001b[0m in \u001b[0;36mgraficar\u001b[1;34m(largo_clona, lista_hits, lista_cajas, nombre, j)\u001b[0m\n\u001b[0;32m      8\u001b[0m         \u001b[1;31m#monomeros(monomero[0],monomero[1])\u001b[0m\u001b[1;33m\u001b[0m\u001b[1;33m\u001b[0m\u001b[1;33m\u001b[0m\u001b[0m\n\u001b[0;32m      9\u001b[0m     \u001b[1;32mfor\u001b[0m \u001b[0mi\u001b[0m\u001b[1;33m,\u001b[0m\u001b[0mcaja\u001b[0m \u001b[1;32min\u001b[0m \u001b[0menumerate\u001b[0m\u001b[1;33m(\u001b[0m\u001b[0mlista_cajas\u001b[0m\u001b[1;33m)\u001b[0m\u001b[1;33m:\u001b[0m\u001b[1;33m\u001b[0m\u001b[1;33m\u001b[0m\u001b[0m\n\u001b[1;32m---> 10\u001b[1;33m         \u001b[0mcajas\u001b[0m\u001b[1;33m(\u001b[0m\u001b[0mcaja\u001b[0m\u001b[1;33m[\u001b[0m\u001b[1;36m1\u001b[0m\u001b[1;33m]\u001b[0m\u001b[1;33m,\u001b[0m\u001b[0mcaja\u001b[0m\u001b[1;33m[\u001b[0m\u001b[1;36m0\u001b[0m\u001b[1;33m]\u001b[0m\u001b[1;33m,\u001b[0m\u001b[0mnombre\u001b[0m\u001b[1;33m,\u001b[0m\u001b[0mlargo_clona\u001b[0m\u001b[1;33m,\u001b[0m\u001b[0mcaja\u001b[0m\u001b[1;33m[\u001b[0m\u001b[1;36m2\u001b[0m\u001b[1;33m]\u001b[0m\u001b[1;33m,\u001b[0m\u001b[0mi\u001b[0m\u001b[1;33m)\u001b[0m\u001b[1;33m\u001b[0m\u001b[1;33m\u001b[0m\u001b[0m\n\u001b[0m\u001b[0;32m     11\u001b[0m     \u001b[1;31m#black_h = plt.scatter([],[], marker=r'$\\mathrm{\\mathsf{H}}$',color ='k', label='Monomers' )\u001b[0m\u001b[1;33m\u001b[0m\u001b[1;33m\u001b[0m\u001b[1;33m\u001b[0m\u001b[0m\n\u001b[0;32m     12\u001b[0m     \u001b[1;31m#plt.legend(handles=[black_h],loc=pos_leg, fontsize='x-small')\u001b[0m\u001b[1;33m\u001b[0m\u001b[1;33m\u001b[0m\u001b[1;33m\u001b[0m\u001b[0m\n",
      "\u001b[1;32m<ipython-input-9-ac9461258c30>\u001b[0m in \u001b[0;36mcajas\u001b[1;34m(x, texto_caja, nombre, largo_clona, booleano, i)\u001b[0m\n\u001b[0;32m     12\u001b[0m     \u001b[1;32melse\u001b[0m\u001b[1;33m:\u001b[0m\u001b[1;33m\u001b[0m\u001b[1;33m\u001b[0m\u001b[0m\n\u001b[0;32m     13\u001b[0m         \u001b[0mtraduccion\u001b[0m \u001b[1;33m=\u001b[0m \u001b[0mtraductor\u001b[0m\u001b[1;33m(\u001b[0m\u001b[0mtexto_caja\u001b[0m\u001b[1;33m,\u001b[0m \u001b[1;34m'tabla2.csv'\u001b[0m\u001b[1;33m)\u001b[0m\u001b[1;33m\u001b[0m\u001b[1;33m\u001b[0m\u001b[0m\n\u001b[1;32m---> 14\u001b[1;33m         \u001b[0ms\u001b[0m \u001b[1;33m=\u001b[0m \u001b[0mscore\u001b[0m\u001b[1;33m(\u001b[0m\u001b[0mtraduccion\u001b[0m\u001b[1;33m,\u001b[0m\u001b[1;34m'tabla2.csv'\u001b[0m\u001b[1;33m)\u001b[0m\u001b[1;33m\u001b[0m\u001b[1;33m\u001b[0m\u001b[0m\n\u001b[0m\u001b[0;32m     15\u001b[0m         \u001b[0mf\u001b[0m\u001b[1;33m.\u001b[0m\u001b[0mwrite\u001b[0m\u001b[1;33m(\u001b[0m\u001b[0mstr\u001b[0m\u001b[1;33m(\u001b[0m\u001b[0ms\u001b[0m\u001b[1;33m)\u001b[0m\u001b[1;33m+\u001b[0m\u001b[1;34m','\u001b[0m\u001b[1;33m)\u001b[0m\u001b[1;33m\u001b[0m\u001b[1;33m\u001b[0m\u001b[0m\n\u001b[0;32m     16\u001b[0m         \u001b[0mline_color\u001b[0m \u001b[1;33m=\u001b[0m \u001b[0mcolorea\u001b[0m\u001b[1;33m(\u001b[0m\u001b[0ms\u001b[0m\u001b[1;33m)\u001b[0m\u001b[1;33m\u001b[0m\u001b[1;33m\u001b[0m\u001b[0m\n",
      "\u001b[1;32m<ipython-input-7-ee14a8255b68>\u001b[0m in \u001b[0;36mscore\u001b[1;34m(lista, tabla)\u001b[0m\n\u001b[0;32m      4\u001b[0m         \u001b[0mn\u001b[0m \u001b[1;33m=\u001b[0m \u001b[0mn\u001b[0m\u001b[1;33m*\u001b[0m\u001b[0mi\u001b[0m\u001b[1;33m\u001b[0m\u001b[1;33m\u001b[0m\u001b[0m\n\u001b[0;32m      5\u001b[0m     \u001b[0ml\u001b[0m \u001b[1;33m=\u001b[0m \u001b[0mnp\u001b[0m\u001b[1;33m.\u001b[0m\u001b[0mlog10\u001b[0m\u001b[1;33m(\u001b[0m\u001b[0mn\u001b[0m\u001b[1;33m)\u001b[0m\u001b[1;33m\u001b[0m\u001b[1;33m\u001b[0m\u001b[0m\n\u001b[1;32m----> 6\u001b[1;33m     \u001b[0msmax\u001b[0m \u001b[1;33m=\u001b[0m \u001b[0mminmax\u001b[0m\u001b[1;33m(\u001b[0m\u001b[0mtabla\u001b[0m\u001b[1;33m)\u001b[0m\u001b[1;33m[\u001b[0m\u001b[1;36m0\u001b[0m\u001b[1;33m]\u001b[0m\u001b[1;33m\u001b[0m\u001b[1;33m\u001b[0m\u001b[0m\n\u001b[0m\u001b[0;32m      7\u001b[0m     \u001b[0msmin\u001b[0m \u001b[1;33m=\u001b[0m \u001b[0mminmax\u001b[0m\u001b[1;33m(\u001b[0m\u001b[0mtabla\u001b[0m\u001b[1;33m)\u001b[0m\u001b[1;33m[\u001b[0m\u001b[1;36m1\u001b[0m\u001b[1;33m]\u001b[0m\u001b[1;33m\u001b[0m\u001b[1;33m\u001b[0m\u001b[0m\n\u001b[0;32m      8\u001b[0m     \u001b[0ms\u001b[0m \u001b[1;33m=\u001b[0m \u001b[1;33m(\u001b[0m\u001b[0ml\u001b[0m\u001b[1;33m-\u001b[0m\u001b[0msmin\u001b[0m\u001b[1;33m)\u001b[0m\u001b[1;33m/\u001b[0m\u001b[1;33m(\u001b[0m\u001b[0msmax\u001b[0m\u001b[1;33m-\u001b[0m\u001b[0msmin\u001b[0m\u001b[1;33m)\u001b[0m\u001b[1;33m\u001b[0m\u001b[1;33m\u001b[0m\u001b[0m\n",
      "\u001b[1;32m<ipython-input-6-591f5c65a657>\u001b[0m in \u001b[0;36mminmax\u001b[1;34m(tabla)\u001b[0m\n\u001b[0;32m      4\u001b[0m     \u001b[0mseq_max\u001b[0m \u001b[1;33m=\u001b[0m \u001b[1;33m[\u001b[0m\u001b[1;33m]\u001b[0m\u001b[1;33m\u001b[0m\u001b[1;33m\u001b[0m\u001b[0m\n\u001b[0;32m      5\u001b[0m     \u001b[1;32mfor\u001b[0m \u001b[0mcol\u001b[0m \u001b[1;32min\u001b[0m \u001b[0mdf\u001b[0m\u001b[1;33m.\u001b[0m\u001b[0mcolumns\u001b[0m\u001b[1;33m:\u001b[0m\u001b[1;33m\u001b[0m\u001b[1;33m\u001b[0m\u001b[0m\n\u001b[1;32m----> 6\u001b[1;33m         \u001b[0mseq_max\u001b[0m\u001b[1;33m.\u001b[0m\u001b[0mappend\u001b[0m\u001b[1;33m(\u001b[0m\u001b[0mmax\u001b[0m\u001b[1;33m(\u001b[0m\u001b[0mdf\u001b[0m\u001b[1;33m.\u001b[0m\u001b[0miloc\u001b[0m\u001b[1;33m[\u001b[0m\u001b[1;33m:\u001b[0m\u001b[1;33m,\u001b[0m\u001b[0mint\u001b[0m\u001b[1;33m(\u001b[0m\u001b[0mcol\u001b[0m\u001b[1;33m)\u001b[0m\u001b[1;33m]\u001b[0m\u001b[1;33m)\u001b[0m\u001b[1;33m)\u001b[0m\u001b[1;33m\u001b[0m\u001b[1;33m\u001b[0m\u001b[0m\n\u001b[0m\u001b[0;32m      7\u001b[0m         \u001b[0mseq_min\u001b[0m\u001b[1;33m.\u001b[0m\u001b[0mappend\u001b[0m\u001b[1;33m(\u001b[0m\u001b[0mmin\u001b[0m\u001b[1;33m(\u001b[0m\u001b[0mdf\u001b[0m\u001b[1;33m.\u001b[0m\u001b[0miloc\u001b[0m\u001b[1;33m[\u001b[0m\u001b[1;33m:\u001b[0m\u001b[1;33m,\u001b[0m\u001b[0mint\u001b[0m\u001b[1;33m(\u001b[0m\u001b[0mcol\u001b[0m\u001b[1;33m)\u001b[0m\u001b[1;33m]\u001b[0m\u001b[1;33m)\u001b[0m\u001b[1;33m)\u001b[0m\u001b[1;33m\u001b[0m\u001b[1;33m\u001b[0m\u001b[0m\n\u001b[0;32m      8\u001b[0m     \u001b[0msmax\u001b[0m \u001b[1;33m=\u001b[0m \u001b[0mscore_minmax\u001b[0m\u001b[1;33m(\u001b[0m\u001b[0mseq_max\u001b[0m\u001b[1;33m)\u001b[0m\u001b[1;33m\u001b[0m\u001b[1;33m\u001b[0m\u001b[0m\n",
      "\u001b[1;31mValueError\u001b[0m: invalid literal for int() with base 10: 'Unnamed: 13'"
     ]
    }
   ],
   "source": [
    "lista_clonas = []\n",
    "for i,clona in enumerate(clonas):\n",
    "    lista_clonas.append(tabla.loc[tabla.clone_id==clona])\n",
    "clonas_perdidas = []\n",
    "f = open('scores.csv','w')\n",
    "for i in range(len(lista_clonas)):\n",
    "    pos_leg = 'upper left'\n",
    "    if lista_clonas[i].index[0] in df_output_motivos.index:\n",
    "        f.write(lista_clonas[i].index[0]+',') \n",
    "        tamaño = int(df_output_motivos.loc[lista_clonas[i].index[0]]['tamaño'])\n",
    "        zipped_limites = limites_monomeros(lista_clonas[i])\n",
    "        zipped_pos_cajas = posicion_cajas(lista_clonas[i].index[0], df_output_motivos)\n",
    "        graficar(tamaño,zipped_limites,zipped_pos_cajas,lista_clonas[i].index[0],i)\n",
    "        f.write('\\n')\n",
    "    else:\n",
    "        clonas_perdidas.append(lista_clonas[i].index[0])\n",
    "f.close()\n",
    "    \n",
    "    "
   ]
  },
  {
   "cell_type": "code",
   "execution_count": null,
   "metadata": {},
   "outputs": [],
   "source": []
  },
  {
   "cell_type": "code",
   "execution_count": null,
   "metadata": {},
   "outputs": [],
   "source": []
  }
 ],
 "metadata": {
  "kernelspec": {
   "display_name": "Python 3",
   "language": "python",
   "name": "python3"
  },
  "language_info": {
   "codemirror_mode": {
    "name": "ipython",
    "version": 3
   },
   "file_extension": ".py",
   "mimetype": "text/x-python",
   "name": "python",
   "nbconvert_exporter": "python",
   "pygments_lexer": "ipython3",
   "version": "3.7.1"
  }
 },
 "nbformat": 4,
 "nbformat_minor": 2
}
